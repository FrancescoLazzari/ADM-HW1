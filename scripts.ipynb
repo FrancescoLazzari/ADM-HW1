{
 "cells": [
  {
   "cell_type": "markdown",
   "metadata": {},
   "source": [
    "# ADM - HW 1 - Winter semester 2023\n",
    "\n",
    "**Student:** Francesco Lazzari\n",
    "\n",
    "**ID:** 1917922"
   ]
  },
  {
   "cell_type": "markdown",
   "metadata": {},
   "source": [
    "## Problem 1"
   ]
  },
  {
   "cell_type": "markdown",
   "metadata": {},
   "source": [
    "### Introduction"
   ]
  },
  {
   "cell_type": "markdown",
   "metadata": {},
   "source": [
    "##### 1. Say \"Hello world!\" With Python"
   ]
  },
  {
   "cell_type": "code",
   "execution_count": null,
   "metadata": {},
   "outputs": [],
   "source": [
    "if __name__ == '__main__':\n",
    "    print(\"Hello, World!\")"
   ]
  },
  {
   "cell_type": "markdown",
   "metadata": {},
   "source": [
    "##### 2. Python If-Else"
   ]
  },
  {
   "cell_type": "code",
   "execution_count": null,
   "metadata": {},
   "outputs": [],
   "source": [
    "import math\n",
    "import os\n",
    "import random\n",
    "import re\n",
    "import sys\n",
    "\n",
    "\n",
    "\n",
    "if __name__ == '__main__':\n",
    "    n = int(input().strip())\n",
    "\n",
    "    if not isinstance (n, int):\n",
    "        raise TypeError\n",
    "\n",
    "    if n < 1 or n > 100:\n",
    "        raise ValueError\n",
    "\n",
    "    if n % 2 == 0 and 1 < n < 6 :\n",
    "        print(\"Not Weird\")\n",
    "    \n",
    "    if n % 2 == 0 and 5 < n < 21 :\n",
    "        print(\"Weird\")\n",
    "\n",
    "    if n % 2 == 0 and n > 20 :\n",
    "        print(\"Not Weird\")\n",
    "    \n",
    "    if n % 2 != 0:\n",
    "        print(\"Weird\")"
   ]
  },
  {
   "cell_type": "markdown",
   "metadata": {},
   "source": [
    "##### 3. Arithmetic Operators"
   ]
  },
  {
   "cell_type": "code",
   "execution_count": null,
   "metadata": {},
   "outputs": [],
   "source": [
    "if __name__ == '__main__':\n",
    "    a = int(input())\n",
    "    b = int(input())\n",
    "\n",
    "    if not isinstance (a, int):\n",
    "        raise TypeError\n",
    "    \n",
    "    if not isinstance (b, int):\n",
    "        raise TypeError\n",
    "    \n",
    "    if a < 1 or a > (10**10) :\n",
    "        raise ValueError\n",
    "    \n",
    "    if b < 1 or b > (10**10):\n",
    "        raise ValueError\n",
    "    \n",
    "    print(f\"{a+b}\\n{a-b}\\n{a*b}\")\n"
   ]
  },
  {
   "cell_type": "markdown",
   "metadata": {},
   "source": [
    "##### 4. Python: Division"
   ]
  },
  {
   "cell_type": "code",
   "execution_count": null,
   "metadata": {},
   "outputs": [],
   "source": [
    "if __name__ == '__main__':\n",
    "    a = int(input())\n",
    "    b = int(input())\n",
    "\n",
    "    if not isinstance (a, int):\n",
    "        raise TypeError\n",
    "    \n",
    "    if not isinstance (b, int):\n",
    "        raise TypeError\n",
    "    \n",
    "    print(f\"{a//b}\\n{a/b}\")"
   ]
  },
  {
   "cell_type": "markdown",
   "metadata": {},
   "source": [
    "##### 5. Loops"
   ]
  },
  {
   "cell_type": "code",
   "execution_count": null,
   "metadata": {},
   "outputs": [],
   "source": [
    "if __name__ == '__main__':\n",
    "    n = int(input())\n",
    "\n",
    "    if 0 < n < 21:\n",
    "        for i in range(0,n):\n",
    "            print(i**2)\n",
    "    else:\n",
    "        raise ValueError"
   ]
  },
  {
   "cell_type": "markdown",
   "metadata": {},
   "source": [
    "##### 6. Whrite a function"
   ]
  },
  {
   "cell_type": "code",
   "execution_count": null,
   "metadata": {},
   "outputs": [],
   "source": [
    "def is_leap(year):\n",
    "    leap = False\n",
    "    \n",
    "    if 1899 < year <= (10**5): \n",
    "        \n",
    "        if (year % 4 == 0 and year % 100 != 0) or (year % 4 == 0 and year % 400 == 0 ):\n",
    "            leap = True\n",
    "        \n",
    "        else:\n",
    "            leap = False\n",
    "        \n",
    "        return leap\n",
    "    else:\n",
    "        raise ValueError\n",
    "\n",
    "year = int(input())\n",
    "print(is_leap(year))"
   ]
  },
  {
   "cell_type": "markdown",
   "metadata": {},
   "source": [
    "##### 7. Print Function"
   ]
  },
  {
   "cell_type": "code",
   "execution_count": null,
   "metadata": {},
   "outputs": [],
   "source": [
    "if __name__ == '__main__':\n",
    "    n = int(input())\n",
    "\n",
    "    if 0 < n <= 150:\n",
    "        for i in range(1,n+1):\n",
    "            print(i,end=\"\")\n",
    "    else:\n",
    "        raise ValueError"
   ]
  },
  {
   "cell_type": "markdown",
   "metadata": {},
   "source": [
    "---\n",
    "\n",
    "### Data types"
   ]
  },
  {
   "cell_type": "markdown",
   "metadata": {},
   "source": [
    "##### 1. List Comprehensions"
   ]
  },
  {
   "cell_type": "code",
   "execution_count": null,
   "metadata": {},
   "outputs": [],
   "source": [
    "if __name__ == '__main__':\n",
    "    x = int(input())\n",
    "    y = int(input())\n",
    "    z = int(input())\n",
    "    n = int(input())\n",
    "\n",
    "    lista = []\n",
    "\n",
    "    lista=[[i,j,k] for i in range(0,x+1) for j in range(0,y+1) for k in range(0,z+1) if i+j+k != n]\n",
    "\n",
    "    lista.sort()\n",
    "    print(lista)"
   ]
  },
  {
   "cell_type": "markdown",
   "metadata": {},
   "source": [
    "##### 2. Find the Runner-Up Score!"
   ]
  },
  {
   "cell_type": "code",
   "execution_count": null,
   "metadata": {},
   "outputs": [],
   "source": [
    "if __name__ == '__main__':\n",
    "    n = int(input())\n",
    "    arr = map(int, input().split())\n",
    "    arr = list(arr)\n",
    "    arr.sort()\n",
    "    \n",
    "    if n < 2 or n > 10:\n",
    "        raise ValueError\n",
    "    \n",
    "    for i in range(len(arr)):\n",
    "        if arr[i] > 100 or arr[i] < -100 :\n",
    "            raise ValueError\n",
    "    \n",
    "    runner_up= None\n",
    "    for i in range(len(arr)-1):\n",
    "        if arr[i] != arr[i+1] :\n",
    "            runner_up = arr[i]\n",
    "             \n",
    "    print(runner_up)\n"
   ]
  },
  {
   "cell_type": "markdown",
   "metadata": {},
   "source": [
    "##### 3. nested Lists"
   ]
  },
  {
   "cell_type": "code",
   "execution_count": null,
   "metadata": {},
   "outputs": [],
   "source": [
    "if __name__ == '__main__':\n",
    "    score_records = []\n",
    "    data_records = []\n",
    "    N = int(input())\n",
    "\n",
    "    if N < 2 or N > 5:\n",
    "        raise ValueError\n",
    "\n",
    "    for _ in range(N):\n",
    "        name = input()\n",
    "        score = float(input())\n",
    "\n",
    "        score_records.append(score)\n",
    "        data_records.append([name,score])\n",
    "    \n",
    "    score_records.sort(reverse=True)\n",
    "    second_lowest = None\n",
    "    for i in range(len(score_records)-1):\n",
    "        if score_records[i] != score_records[i+1] :\n",
    "            second_lowest = score_records[i]\n",
    "    \n",
    "    if second_lowest == None:\n",
    "        print(\"There isn't a student with a second lowest grade\")\n",
    "\n",
    "    students=[]\n",
    "    for i in range(N):\n",
    "        if data_records[i][1] == second_lowest :\n",
    "            students.append(data_records[i][0])\n",
    "    students.sort()\n",
    "\n",
    "    for i in students:\n",
    "        print(i, end=\"\\n\")\n"
   ]
  },
  {
   "cell_type": "markdown",
   "metadata": {},
   "source": [
    "##### 4. Finding the percentage"
   ]
  },
  {
   "cell_type": "code",
   "execution_count": null,
   "metadata": {},
   "outputs": [],
   "source": [
    "if __name__ == '__main__':\n",
    "    n = int(input())\n",
    "    if n < 2 or n > 10:\n",
    "        raise ValueError\n",
    "    \n",
    "    student_marks = {}\n",
    "    \n",
    "    for _ in range(n):\n",
    "        name, *line = input().split()\n",
    "        scores = list(map(float, line))\n",
    "        \n",
    "        if len(scores) != 3:\n",
    "            raise ValueError\n",
    "        for x in scores:\n",
    "            if x < 0 or x > 100:\n",
    "                raise ValueError\n",
    "        \n",
    "        student_marks[name] = scores\n",
    "    \n",
    "    query_name = input()\n",
    "    \n",
    "    if query_name not in student_marks:\n",
    "        print(\"Student not found\")\n",
    "    \n",
    "    else: \n",
    "        target_marks = student_marks[query_name]\n",
    "        target_average = round ( sum(target_marks) / len(target_marks) , 2)\n",
    "        print(f\"{target_average:.2f}\")\n"
   ]
  },
  {
   "cell_type": "markdown",
   "metadata": {},
   "source": [
    "##### 5. Lists"
   ]
  },
  {
   "cell_type": "code",
   "execution_count": null,
   "metadata": {},
   "outputs": [],
   "source": [
    "if __name__ == '__main__':\n",
    "    N = int(input())\n",
    "    lista = []\n",
    "    \n",
    "    for i in range(N):\n",
    "        azione, *var  = input().split()\n",
    "        azione= azione.lower()\n",
    "        \n",
    "        for i in range(len(var)):\n",
    "            var[i]= int(var[i])\n",
    "\n",
    "        if azione ==\"insert\":\n",
    "            lista.insert(var[0],var[1])\n",
    "        \n",
    "        elif azione == \"append\":\n",
    "            lista.append(var[0])\n",
    "\n",
    "        elif azione == \"remove\":\n",
    "            lista.remove(var[0])\n",
    "        \n",
    "        elif azione == \"pop\":\n",
    "            lista.pop()\n",
    "        \n",
    "        elif azione == \"reverse\":\n",
    "            lista.reverse()\n",
    "        \n",
    "        elif azione == \"sort\":\n",
    "            lista.sort()\n",
    "        \n",
    "        elif azione == \"print\":\n",
    "            print(lista)"
   ]
  },
  {
   "cell_type": "markdown",
   "metadata": {},
   "source": [
    "##### 6. Tuples"
   ]
  },
  {
   "cell_type": "code",
   "execution_count": null,
   "metadata": {},
   "outputs": [],
   "source": [
    "if __name__ == '__main__':\n",
    "    n = int(input())\n",
    "    integer_list = map(int, input().split())\n",
    "    t = tuple(integer_list)\n",
    "    print(hash(t))"
   ]
  },
  {
   "cell_type": "markdown",
   "metadata": {},
   "source": [
    "--- \n",
    "\n",
    "### Strings"
   ]
  },
  {
   "cell_type": "markdown",
   "metadata": {},
   "source": [
    "##### 1. sWAP cASE"
   ]
  },
  {
   "cell_type": "code",
   "execution_count": null,
   "metadata": {},
   "outputs": [],
   "source": [
    "def swap_case(s):\n",
    "    swap_case=\"\"\n",
    "\n",
    "    if len(s) <= 0 or len(s) > 1000:\n",
    "        return ValueError\n",
    "     \n",
    "    for l in s:\n",
    "        if l.isupper():\n",
    "            swap_case += l.lower()\n",
    "        else:\n",
    "            swap_case += l.upper()\n",
    "    \n",
    "    return swap_case\n",
    "\n",
    "if __name__ == '__main__':\n",
    "    s= str(input())\n",
    "    print(swap_case(s))"
   ]
  },
  {
   "cell_type": "markdown",
   "metadata": {},
   "source": [
    "##### 2. String Split and Join"
   ]
  },
  {
   "cell_type": "code",
   "execution_count": null,
   "metadata": {},
   "outputs": [],
   "source": [
    "def split_and_join(line):\n",
    "    # Write your code here\n",
    "\n",
    "    if not isinstance(line, str):\n",
    "        raise TypeError\n",
    "    \n",
    "    lista=line.split(\" \")\n",
    "    new_line=\"-\".join(lista)\n",
    "\n",
    "    return new_line\n",
    "\n",
    "if __name__ == '__main__':\n",
    "    line = input()\n",
    "    result = split_and_join(line)\n",
    "    print(result)"
   ]
  },
  {
   "cell_type": "markdown",
   "metadata": {},
   "source": [
    "##### 3. What's Your Name?"
   ]
  },
  {
   "cell_type": "code",
   "execution_count": null,
   "metadata": {},
   "outputs": [],
   "source": [
    "#\n",
    "# Complete the 'print_full_name' function below.\n",
    "#\n",
    "# The function is expected to return a STRING.\n",
    "# The function accepts following parameters:\n",
    "#  1. STRING first\n",
    "#  2. STRING last\n",
    "#\n",
    "\n",
    "def print_full_name(first, last):\n",
    "    # write your code here\n",
    "    if len(first) > 10 or len(last) > 10 :\n",
    "        return ValueError\n",
    "    \n",
    "    print (f\"Hello {first} {last}! You just delved into python.\")\n",
    "\n",
    "if __name__ == '__main__':\n",
    "    first_name = input()\n",
    "    last_name = input()\n",
    "    print_full_name(first_name, last_name)"
   ]
  },
  {
   "cell_type": "markdown",
   "metadata": {},
   "source": [
    "##### 4. Mutations"
   ]
  },
  {
   "cell_type": "code",
   "execution_count": null,
   "metadata": {},
   "outputs": [],
   "source": [
    "def mutate_string(string, position, character):\n",
    "    new_string =string[:position]\n",
    "    new_string += str(character)\n",
    "    new_string = new_string + string[ (position+1):]\n",
    "    return new_string\n",
    "\n",
    "if __name__ == '__main__':\n",
    "    s = input()\n",
    "    i, c = input().split()\n",
    "    s_new = mutate_string(s, int(i), c)\n",
    "    print(s_new)"
   ]
  },
  {
   "cell_type": "markdown",
   "metadata": {},
   "source": [
    "##### 5. Find a string"
   ]
  },
  {
   "cell_type": "code",
   "execution_count": null,
   "metadata": {},
   "outputs": [],
   "source": [
    "def count_substring(string, sub_string):\n",
    "    a = len(string)\n",
    "    b = len(sub_string)\n",
    "\n",
    "    if a < 1 or a > 200:\n",
    "        return ValueError\n",
    "\n",
    "    n= 0  # contatore del numero di corrispondenze\n",
    "    for i in range(0, (a - b)+1):\n",
    "\n",
    "        if string[i] == sub_string[0] :\n",
    "            m=1  # contatore del numero di corrispondenze parziali\n",
    "\n",
    "            for j in range(1, b):\n",
    "                if string[i+j]== sub_string[j]:\n",
    "                    m += 1\n",
    "            \n",
    "            if m == b:   # c e stata corrispondenza per tutta la sotto-stringa\n",
    "                n += 1 \n",
    "    return n\n",
    "\n",
    "if __name__ == '__main__':\n",
    "    string = input().strip()\n",
    "    sub_string = input().strip()\n",
    "    \n",
    "    count = count_substring(string, sub_string)\n",
    "    print(count)"
   ]
  },
  {
   "cell_type": "markdown",
   "metadata": {},
   "source": [
    "##### 6. Sting Validators"
   ]
  },
  {
   "cell_type": "code",
   "execution_count": null,
   "metadata": {},
   "outputs": [],
   "source": [
    "if __name__ == '__main__':\n",
    "    s = input()\n",
    "    if len(s) < 1 and len(s) > 99:\n",
    "        raise ValueError\n",
    "    \n",
    "    condition= [False, False, False, False, False]\n",
    "\n",
    "    for i in s:\n",
    "        if i.isalnum() and condition[0] == False:\n",
    "            condition[0]= True\n",
    "        \n",
    "        if i.isalpha() and condition[1] == False:\n",
    "            condition[1]= True\n",
    "        \n",
    "        if i.isdigit() and condition[2] == False:\n",
    "            condition[2]= True\n",
    "        \n",
    "        if i.islower() and condition[3] == False:\n",
    "            condition[3]= True\n",
    "        \n",
    "        if i.isupper() and condition[4] == False:\n",
    "            condition[4]= True\n",
    "\n",
    "    for i in condition:\n",
    "        print(i)"
   ]
  },
  {
   "cell_type": "markdown",
   "metadata": {},
   "source": [
    "##### 7. Text Alignment"
   ]
  },
  {
   "cell_type": "code",
   "execution_count": null,
   "metadata": {},
   "outputs": [],
   "source": [
    "# Enter your code here. Read input from STDIN. Print output to STDOUT\n",
    "if __name__ == '__main__':\n",
    "    t = int(input()) \n",
    "    \n",
    "    if not ( 0 < t < 50 ) or t % 2 == 0:\n",
    "        raise ValueError\n",
    "    \n",
    "    H = 'H'\n",
    "    \n",
    "    # Freccia verso l'alto\n",
    "    for i in range(t):\n",
    "        print((H * i).rjust(t-1) + H + (H*i).ljust(t-1))\n",
    "    \n",
    "    # Parte superiore\n",
    "    for i in range(t+1):\n",
    "        print((H*t).center(t*2) + (H*t).center(t*6))\n",
    "    \n",
    "    # Parte centrale\n",
    "    for i in range((t+1)//2):\n",
    "        print((H*t*5).center(t*6))\n",
    "    \n",
    "    # Parte inferiore\n",
    "    for i in range(t+1):\n",
    "        print((H*t).center(t*2) + (H*t).center(t*6))\n",
    "    \n",
    "    # Freccia verso il basso\n",
    "    for i in range(t):\n",
    "        print(((H*(t-i-1)).rjust(t) + H + (H*(t-i-1)).ljust(t)).center(t*10))"
   ]
  },
  {
   "cell_type": "markdown",
   "metadata": {},
   "source": [
    "##### 8. Text Wrap"
   ]
  },
  {
   "cell_type": "code",
   "execution_count": null,
   "metadata": {},
   "outputs": [],
   "source": [
    "import textwrap\n",
    "\n",
    "def wrap(string, max_width):\n",
    "    if len(string) == 0 or len(string) >= 100 or  max_width <= 0 or max_width >= len(string) :\n",
    "        raise ValueError\n",
    "    \n",
    "    risultato= \"\"\n",
    "    intervallo= len(string)//max_width\n",
    "    \n",
    "    for i in range(intervallo):\n",
    "        risultato += string[i*max_width: max_width* (i+1)] + \"\\n\"\n",
    "\n",
    "    # aggiungo l ultimo pezzo dell intervallo manualmente per evitare di aggiungere una riga vuota alla fine    \n",
    "    risultato += string[intervallo*max_width :] \n",
    "    \n",
    "    return risultato\n",
    "\n",
    "if __name__ == '__main__':\n",
    "    string, max_width = input(), int(input())\n",
    "    result = wrap(string, max_width)\n",
    "    print(result)"
   ]
  },
  {
   "cell_type": "markdown",
   "metadata": {},
   "source": [
    "##### 9. Designer Door Mat"
   ]
  },
  {
   "cell_type": "code",
   "execution_count": null,
   "metadata": {},
   "outputs": [],
   "source": [
    "if __name__ == '__main__':\n",
    "    n, m = input().split()\n",
    "    n = int(n)\n",
    "    m = int(m)\n",
    "    if n % 2 == 0 or m % 2 == 0 :\n",
    "        raise ValueError\n",
    "    \n",
    "    if n >= 101 or n <=5 or m <= 15 or m >= 303 or m < n:\n",
    "        raise ValueError\n",
    "    \n",
    "    for i in range(1, (n//2) +1 ):\n",
    "    \n",
    "        centro = \"\"\n",
    "        centro += (\".\" + \"|\" + \".\") * ( (i * 2 )-1)\n",
    "        \n",
    "        trattini= \"-\" * int((m - len(centro)) / 2)\n",
    "\n",
    "        risultato= trattini + centro + trattini\n",
    "        print(risultato) \n",
    "    \n",
    "    trattini= \"-\" * int((m-7)/2)\n",
    "    print(trattini+\"WELCOME\"+trattini)\n",
    "\n",
    "    for i in range( (n//2)  , 0 , -1):\n",
    "        centro = \"\"\n",
    "        centro += (\".\" + \"|\" + \".\") * ( (i * 2 )-1)\n",
    "        \n",
    "        trattini= \"-\" * int((m - len(centro)) / 2)\n",
    "\n",
    "        risultato= trattini + centro + trattini\n",
    "        print(risultato) \n"
   ]
  },
  {
   "cell_type": "markdown",
   "metadata": {},
   "source": [
    "##### 10. String Formatting"
   ]
  },
  {
   "cell_type": "code",
   "execution_count": null,
   "metadata": {},
   "outputs": [],
   "source": [
    "def print_formatted(number):\n",
    "    if not (1 <= number <= 99):\n",
    "        raise ValueError\n",
    "    \n",
    "    max_ampiezza_intervallo= len(bin(number)[2:])\n",
    "    \n",
    "    for i in range(1, number+1):\n",
    "        \n",
    "        decimal= str(i)\n",
    "        octal= oct(i)[2:]\n",
    "        hexadecimal= hex(i)[2:].upper()\n",
    "        binary= bin (i)[2:]\n",
    "        \n",
    "        print( decimal.rjust(max_ampiezza_intervallo) , octal.rjust(max_ampiezza_intervallo) , hexadecimal.rjust(max_ampiezza_intervallo) , binary.rjust(max_ampiezza_intervallo) )     \n",
    "\n",
    "\n",
    "if __name__ == '__main__':\n",
    "    n = int(input())\n",
    "    print_formatted(n)"
   ]
  },
  {
   "cell_type": "markdown",
   "metadata": {},
   "source": [
    "##### 11. Alphabet Rangoli"
   ]
  },
  {
   "cell_type": "code",
   "execution_count": null,
   "metadata": {},
   "outputs": [],
   "source": [
    "def print_rangoli(size):\n",
    "    # your code goes here\n",
    "    if not (0 < size < 27):\n",
    "        raise ValueError\n",
    "    \n",
    "    if size == 1 :\n",
    "        print(\"a\")\n",
    "        return\n",
    "        \n",
    "    alfabeto= \"abcdefghijklmnopqrstuvwxyz\"\n",
    "    ampiezza= ((size-1) * 4) +1 \n",
    "    lista= []\n",
    "\n",
    "    # creo le prime size righe e le aggiungo alla lista \"lista\"\n",
    "    for i in range(1,size+1):\n",
    "        riga= \"\"\n",
    "        centro_sx= \"\"\n",
    "\n",
    "        # creo la sequenza centrale-sinistra di trattini/lettere\n",
    "        for j in range(i):\n",
    "            centro_sx += (\"-\" + alfabeto[size-1-j] )\n",
    "    \n",
    "        # creo la sequenza centrale-destra di trattini/lettere\n",
    "        # [:-1] seleziona il centro-sinistro escludendo l ultima lettera (la lettera al centro non si ripete)\n",
    "        # [::-1] inverte il centro-sinistro\n",
    "        centro_dx= centro_sx[:-1][::-1] \n",
    "\n",
    "        # unisco le due parti nella sequenza centrale di trattini/lettere\n",
    "        centro= centro_sx+centro_dx\n",
    "\n",
    "        # rimuovo i trattini agli estremi nella riga centrale\n",
    "        # aggiungo i trattini ai lati nelle righe non centrali\n",
    "        if i == size :\n",
    "            riga = centro[1:-1] \n",
    "        else:\n",
    "            n_trattini= (ampiezza - len(centro) ) // 2   # la divisione deve essere intera altrimenti da errore\n",
    "            trattini = \"-\" * n_trattini\n",
    "            riga = trattini + centro + trattini \n",
    "    \n",
    "        # aggiungo la i-esima riga alla lista contenenti tutte le righe\n",
    "        lista.append(riga)\n",
    "\n",
    "    rangoli = \"\"\n",
    "\n",
    "    # aggiungo le righe crescenti alla stringa finale rangoli\n",
    "    # aggiungo dopo ogni riga nella lista il comando per andare a capo \"\\n\"\n",
    "    for i in range(size):\n",
    "        rangoli += lista[i] + \"\\n\"\n",
    "\n",
    "    # aggiungo le righe decrescenti alla stringa finale rangoli \n",
    "    # aggiungo dopo ogni riga nella lista il comando per andare a capo \"\\n\"\n",
    "    # salto l ultima riga poiche non deve avere il comando per andare a capo\n",
    "    for i in range(size-2 , 0 , -1):\n",
    "        rangoli += lista[i] + \"\\n\"\n",
    "\n",
    "    # aggiungo manualmente l ultima riga senza aggiungere il comando per andare a capo\n",
    "    rangoli += lista[0]\n",
    "\n",
    "    print(rangoli)\n",
    "\n",
    "if __name__ == '__main__':\n",
    "    n = int(input())\n",
    "    print_rangoli(n)"
   ]
  },
  {
   "cell_type": "markdown",
   "metadata": {},
   "source": [
    "##### 12. Capitalize!"
   ]
  },
  {
   "cell_type": "code",
   "execution_count": null,
   "metadata": {},
   "outputs": [],
   "source": [
    "#!/bin/python3\n",
    "\n",
    "import math\n",
    "import os\n",
    "import random\n",
    "import re\n",
    "import sys\n",
    "\n",
    "# Complete the solve function below.\n",
    "def solve(s):\n",
    "    \n",
    "    lista=re.split(r'(\\s+)', s)\n",
    "    stringa=\"\"\n",
    "    \n",
    "    for i in range(0,len(lista)):\n",
    "        lista[i] = lista[i].capitalize()\n",
    "        \n",
    "    stringa=\"\".join(lista)\n",
    "    return stringa.strip()\n",
    "\n",
    "if __name__ == '__main__':\n",
    "    fptr = open(os.environ['OUTPUT_PATH'], 'w')\n",
    "\n",
    "    s = input()\n",
    "\n",
    "    result = solve(s)\n",
    "\n",
    "    fptr.write(result + '\\n')\n",
    "\n",
    "    fptr.close()\n",
    "   "
   ]
  },
  {
   "cell_type": "markdown",
   "metadata": {},
   "source": [
    "##### 13. The Minion Game"
   ]
  },
  {
   "cell_type": "code",
   "execution_count": null,
   "metadata": {},
   "outputs": [],
   "source": [
    "def minion_game(string):\n",
    "    Stuart_points = 0\n",
    "    Kevin_points = 0\n",
    "    lunghezza = len(string)\n",
    "    \n",
    "    if not ( 0< lunghezza <= (10**6)):\n",
    "        raise ValueError\n",
    "\n",
    "    for i in range(lunghezza):\n",
    "        \n",
    "        if string[i] not in [\"A\", \"E\", \"I\", \"O\", \"U\"]:\n",
    "            Stuart_points += lunghezza - i\n",
    "        else:\n",
    "            Kevin_points += lunghezza - i\n",
    "\n",
    "    if Kevin_points > Stuart_points:\n",
    "        print(\"Kevin\", Kevin_points)\n",
    "        \n",
    "    elif Kevin_points < Stuart_points:\n",
    "        print(\"Stuart\", Stuart_points)\n",
    "        \n",
    "    else:\n",
    "        print(\"Draw\")\n",
    "        \n",
    "if __name__ == '__main__':\n",
    "    s = input()\n",
    "    minion_game(s)"
   ]
  },
  {
   "cell_type": "markdown",
   "metadata": {},
   "source": [
    "##### 14. Merge the Tools!"
   ]
  },
  {
   "cell_type": "code",
   "execution_count": null,
   "metadata": {},
   "outputs": [],
   "source": [
    "def merge_the_tools(string, k):\n",
    "    sub_str = []\n",
    "    n_sub = len(string) // k\n",
    "    \n",
    "    for i in range(1 , (n_sub + 1) ) :\n",
    "        t_i = \"\"\n",
    "        \n",
    "        for j in range( k * (i-1) , (k * i) ):\n",
    "            \n",
    "            if string[j] not in t_i:\n",
    "                t_i += string[j]\n",
    "        \n",
    "        sub_str.append(t_i)\n",
    "    \n",
    "    for u in sub_str :\n",
    "        print(u)\n",
    "            \n",
    "\n",
    "if __name__ == '__main__':\n",
    "    string, k = input(), int(input())\n",
    "    merge_the_tools(string, k)"
   ]
  },
  {
   "cell_type": "markdown",
   "metadata": {},
   "source": [
    "--- \n",
    "\n",
    "### Sets"
   ]
  },
  {
   "cell_type": "markdown",
   "metadata": {},
   "source": [
    "##### 1. Introduction to Sets"
   ]
  },
  {
   "cell_type": "code",
   "execution_count": null,
   "metadata": {},
   "outputs": [],
   "source": [
    "def average(array):\n",
    "    # your code goes here\n",
    "    n= len(array)\n",
    "\n",
    "    if not ( 0 < n <= 100):\n",
    "        raise ValueError\n",
    "    \n",
    "    array = list(array)\n",
    "\n",
    "    for i in range(n):\n",
    "        array[i]= int(array[i])\n",
    "\n",
    "    different_plants=list(set(array))\n",
    "    average= sum(different_plants)/(len(different_plants))\n",
    "    average = round(average , 3)\n",
    "    \n",
    "    return average\n",
    "    \n",
    "if __name__ == '__main__':\n",
    "    n = int(input())\n",
    "    arr = list(map(int, input().split()))\n",
    "    result = average(arr)\n",
    "    print(result)\n",
    "    "
   ]
  },
  {
   "cell_type": "markdown",
   "metadata": {},
   "source": [
    "##### 2. No Idea!"
   ]
  },
  {
   "cell_type": "code",
   "execution_count": null,
   "metadata": {},
   "outputs": [],
   "source": [
    "# Enter your code here. Read input from STDIN. Print output to STDOUT\n",
    "if __name__ == '__main__':\n",
    "    n , m = map(int, input().split())\n",
    "    array = list( map(int, input().split()) )\n",
    "    A = set( map(int, input().split()) )\n",
    "    B = set( map(int, input().split()) )\n",
    "    \n",
    "    happy = 0\n",
    "    for i in array :\n",
    "        \n",
    "        if i in A :\n",
    "            happy += 1\n",
    "        \n",
    "        elif i in B :\n",
    "            happy -= 1\n",
    "    \n",
    "    print(happy)"
   ]
  },
  {
   "cell_type": "markdown",
   "metadata": {},
   "source": [
    "##### 3. Symmetric Difference"
   ]
  },
  {
   "cell_type": "code",
   "execution_count": null,
   "metadata": {},
   "outputs": [],
   "source": [
    "# Enter your code here. Read input from STDIN. Print output to STDOUT\n",
    "M = int(input())\n",
    "set1 = set( map(int,input().split()) )\n",
    "\n",
    "N = int(input())\n",
    "set2 = set( map(int,input().split()) )\n",
    "\n",
    "symmetric_difference = set()\n",
    "\n",
    "diff1 = set1.difference(set2)\n",
    "diff2 = set2.difference(set1)\n",
    "\n",
    "symmetric_difference = list( diff1.union(diff2) )\n",
    "symmetric_difference.sort()\n",
    "\n",
    "for s in symmetric_difference:\n",
    "    print(s)"
   ]
  },
  {
   "cell_type": "markdown",
   "metadata": {},
   "source": [
    "##### 4. Set .add()"
   ]
  },
  {
   "cell_type": "code",
   "execution_count": null,
   "metadata": {},
   "outputs": [],
   "source": [
    "# Enter your code here. Read input from STDIN. Print output to STDOUT\n",
    "N = int( input())\n",
    "country = set()\n",
    "\n",
    "for _ in range(N):\n",
    "    country.add( input())\n",
    "\n",
    "print(len(country))"
   ]
  },
  {
   "cell_type": "markdown",
   "metadata": {},
   "source": [
    "##### 5. Set .discard(), .remove() & .pop()"
   ]
  },
  {
   "cell_type": "code",
   "execution_count": null,
   "metadata": {},
   "outputs": [],
   "source": [
    "# /!\\ on HackerRanck if language is set on Pypy3 it doesn't work \n",
    "# /!\\ but if the language is set on Python 3 it works\n",
    "n = int(input())\n",
    "numbers = set( map(int, input().split()) )\n",
    "N = int(input())\n",
    "\n",
    "for _ in range(0, N ):\n",
    "    \n",
    "    action = input().split()\n",
    "    \n",
    "    if action[0] == \"remove\" :\n",
    "        numbers.remove(int(action[1]))\n",
    "    \n",
    "    elif action[0] == \"discard\":\n",
    "        numbers.discard(int(action[1]))\n",
    "    \n",
    "    elif action[0] == \"pop\" :\n",
    "        numbers.pop()\n",
    "    \n",
    "print(sum(numbers))"
   ]
  },
  {
   "cell_type": "markdown",
   "metadata": {},
   "source": [
    "##### 6. Set .union() Operation"
   ]
  },
  {
   "cell_type": "code",
   "execution_count": null,
   "metadata": {},
   "outputs": [],
   "source": [
    "# Enter your code here. Read input from STDIN. Print output to STDOUT\n",
    "E = int(input())\n",
    "english = set( map(int,input().split()) )\n",
    "\n",
    "F = int(input())\n",
    "french = set( map(int,input().split()) )\n",
    "\n",
    "print(len(english.union(french)))"
   ]
  },
  {
   "cell_type": "markdown",
   "metadata": {},
   "source": [
    "##### 7. Set .intersection() Operation"
   ]
  },
  {
   "cell_type": "code",
   "execution_count": null,
   "metadata": {},
   "outputs": [],
   "source": [
    "# Enter your code here. Read input from STDIN. Print output to STDOUT\n",
    "E = int(input())\n",
    "english = set( map(int,input().split()) )\n",
    "\n",
    "F = int(input())\n",
    "french = set( map(int,input().split()) )\n",
    "\n",
    "print(len(english.intersection(french)))"
   ]
  },
  {
   "cell_type": "markdown",
   "metadata": {},
   "source": [
    "##### 8. Set .difference() Operation"
   ]
  },
  {
   "cell_type": "code",
   "execution_count": null,
   "metadata": {},
   "outputs": [],
   "source": [
    "# Enter your code here. Read input from STDIN. Print output to STDOUT\n",
    "E=int(input())\n",
    "english =set(map(int,input().split()))\n",
    "\n",
    "F =int(input())\n",
    "french =set(map(int,input().split()))\n",
    "\n",
    "print(len(english.difference(french)))"
   ]
  },
  {
   "cell_type": "markdown",
   "metadata": {},
   "source": [
    "##### 9. Set .symmetric_difference() Operation"
   ]
  },
  {
   "cell_type": "code",
   "execution_count": null,
   "metadata": {},
   "outputs": [],
   "source": [
    "# Enter your code here. Read input from STDIN. Print output to STDOUT\n",
    "E=int(input())\n",
    "english =set(map(int,input().split()))\n",
    "\n",
    "F =int(input())\n",
    "french =set(map(int,input().split()))\n",
    "\n",
    "print(len(english.symmetric_difference(french)))"
   ]
  },
  {
   "cell_type": "markdown",
   "metadata": {},
   "source": [
    "##### 10. Set Mutations"
   ]
  },
  {
   "cell_type": "code",
   "execution_count": null,
   "metadata": {},
   "outputs": [],
   "source": [
    "# Enter your code here. Read input from STDIN. Print output to STDOUT\n",
    "n = int(input())\n",
    "A = set( map(int,input().split()) )\n",
    "\n",
    "N = int(input())\n",
    "\n",
    "for i in range(0,N):\n",
    "    \n",
    "    action , nn = input().split()\n",
    "    nn = int(nn)\n",
    "    B = set(map(int,input().split()))\n",
    "    \n",
    "    if action == \"update\":\n",
    "        A.update(B)\n",
    "    \n",
    "    elif action == \"intersection_update\":\n",
    "        A.intersection_update(B)\n",
    "    \n",
    "    elif action == \"symmetric_difference_update\":\n",
    "        A.symmetric_difference_update(B)\n",
    "    \n",
    "    elif action == \"difference_update\":\n",
    "        A.difference_update(B)\n",
    "print(sum(A))"
   ]
  },
  {
   "cell_type": "markdown",
   "metadata": {},
   "source": [
    "##### 11. The Captain's Room"
   ]
  },
  {
   "cell_type": "code",
   "execution_count": null,
   "metadata": {},
   "outputs": [],
   "source": [
    "# Enter your code here. Read input from STDIN. Print output to STDOUT\n",
    "from collections import Counter\n",
    "\n",
    "K = int(input())\n",
    "tourist_room = list( map(int, input().split()) )\n",
    "\n",
    "Hotel = Counter(tourist_room)\n",
    "\n",
    "for room , frequency in Hotel.items() :\n",
    "    if frequency == 1:\n",
    "        print(room)\n"
   ]
  },
  {
   "cell_type": "markdown",
   "metadata": {},
   "source": [
    "##### 12. Check Subset"
   ]
  },
  {
   "cell_type": "code",
   "execution_count": 1,
   "metadata": {},
   "outputs": [],
   "source": [
    "# Enter your code here. Read input from STDIN. Print output to STDOUT\n",
    "T = int(input())\n",
    "\n",
    "for _ in range(0,T) :\n",
    "    n_a = int( input())\n",
    "    a = set( map(int, input().split()) )\n",
    "    \n",
    "    n_b = int( input())\n",
    "    b = set( map(int, input().split()) )\n",
    "\n",
    "    if a.issubset(b):\n",
    "        print(\"True\")\n",
    "    else:\n",
    "        print(\"False\")"
   ]
  },
  {
   "cell_type": "markdown",
   "metadata": {},
   "source": [
    "##### 13. Check Strict Superset"
   ]
  },
  {
   "cell_type": "code",
   "execution_count": null,
   "metadata": {},
   "outputs": [],
   "source": [
    "# Enter your code here. Read input from STDIN. Print output to STDOUT\n",
    "a = set( map(int, input().split()) )\n",
    "n = int(input())\n",
    "\n",
    "state = \"True\"\n",
    "for _ in range(0,n):\n",
    "    s = set( map(int, input().split()) )\n",
    "    \n",
    "    intersection = a.intersection(s)\n",
    "    if s != intersection:\n",
    "        state = \"False\"\n",
    "        \n",
    "print(state)"
   ]
  },
  {
   "cell_type": "markdown",
   "metadata": {},
   "source": [
    "--- \n",
    "\n",
    "### Collections"
   ]
  },
  {
   "cell_type": "markdown",
   "metadata": {},
   "source": [
    "##### 1. collections.Counter()"
   ]
  },
  {
   "cell_type": "code",
   "execution_count": null,
   "metadata": {},
   "outputs": [],
   "source": [
    "# Enter your code here. Read input from STDIN. Print output to STDOUT\n",
    "from collections import Counter\n",
    "x =  int(input())\n",
    "shoe_size = list( map(int, input().split()) )\n",
    "N = int(input())\n",
    "shoe_size = Counter(shoe_size)\n",
    "money = 0\n",
    "\n",
    "for _ in range(0,N):\n",
    "    size , price = map(int, input().split())\n",
    "\n",
    "    if size in shoe_size and shoe_size[size] > 0:\n",
    "        money += price\n",
    "        shoe_size[size] -= 1\n",
    "\n",
    "print(money)"
   ]
  },
  {
   "cell_type": "markdown",
   "metadata": {},
   "source": [
    "##### 2. DefaultiDict Tutorial"
   ]
  },
  {
   "cell_type": "code",
   "execution_count": null,
   "metadata": {},
   "outputs": [],
   "source": [
    "# Enter your code here. Read input from STDIN. Print output to STDOUT\n",
    "from collections import defaultdict\n",
    "\n",
    "n , m = map(int, input().split())\n",
    "a = list()\n",
    "b = list()\n",
    "\n",
    "for _ in range(0,n):\n",
    "    a_i = input()\n",
    "    a.append(a_i)\n",
    "\n",
    "for _ in range(0,m) :\n",
    "    b_i = input()\n",
    "    b.append(b_i)\n",
    "\n",
    "for b_i in b:\n",
    "    position = []\n",
    "    \n",
    "    for i in range(0,len(a)):\n",
    "        if b_i == a[i]:\n",
    "            position.append(f'{i+1}')\n",
    "    \n",
    "    if len(position) == 0:\n",
    "        print(-1)\n",
    "    \n",
    "    else:\n",
    "        print(' '.join(position))"
   ]
  },
  {
   "cell_type": "markdown",
   "metadata": {},
   "source": [
    "##### 3. Collections.namedtuple()"
   ]
  },
  {
   "cell_type": "code",
   "execution_count": null,
   "metadata": {},
   "outputs": [],
   "source": [
    "# Enter your code here. Read input from STDIN. Print output to STDOUT\n",
    "from collections import namedtuple\n",
    "\n",
    "N = int(input())\n",
    "columns = map(str, input().split())\n",
    "\n",
    "Student = namedtuple(\"Student\" , columns)\n",
    "\n",
    "average = 0\n",
    "for _ in range(0,N):\n",
    "    student_data = input().split()\n",
    "    student_data = Student(*student_data)\n",
    "    average += int(student_data.MARKS)\n",
    "\n",
    "print( round(average/N,2) )"
   ]
  },
  {
   "cell_type": "markdown",
   "metadata": {},
   "source": [
    "##### 4. Collections.orderedDict()"
   ]
  },
  {
   "cell_type": "code",
   "execution_count": null,
   "metadata": {},
   "outputs": [],
   "source": [
    "# Enter your code here. Read input from STDIN. Print output to STDOUT\n",
    "from collections import OrderedDict\n",
    "\n",
    "N = int(input())\n",
    "supermarket = OrderedDict()\n",
    "\n",
    "for _ in range(0,N):\n",
    "    line = input().strip().split()\n",
    "    # devo unire manulamente il nome dell'item nel caso in cui fosse composto da piu di una parola\n",
    "    item = \" \".join(line[:-1])\n",
    "    price = int(line[-1])\n",
    "    \n",
    "    if item not in supermarket:\n",
    "        supermarket[item] = price\n",
    "    else:\n",
    "        supermarket[item] += price\n",
    "\n",
    "for item , value in supermarket.items():\n",
    "    print(item, value)\n",
    "    "
   ]
  },
  {
   "cell_type": "markdown",
   "metadata": {},
   "source": [
    "##### 5. Word Order"
   ]
  },
  {
   "cell_type": "code",
   "execution_count": null,
   "metadata": {},
   "outputs": [],
   "source": [
    "# Enter your code here. Read input from STDIN. Print output to STDOUT\n",
    "from collections import OrderedDict\n",
    "\n",
    "n = int(input())\n",
    "dictionary = OrderedDict()\n",
    "\n",
    "for _ in range(0,n):\n",
    "    word = input()\n",
    "    \n",
    "    if word not in dictionary:\n",
    "        dictionary[word] = 1\n",
    "    else:\n",
    "        dictionary[word] += 1\n",
    "\n",
    "print(len(dictionary))\n",
    "\n",
    "for frequency in dictionary.values():\n",
    "    print(frequency, end=\" \")"
   ]
  },
  {
   "cell_type": "markdown",
   "metadata": {},
   "source": [
    "##### 6. Collections.deque()"
   ]
  },
  {
   "cell_type": "code",
   "execution_count": null,
   "metadata": {},
   "outputs": [],
   "source": [
    "# Enter your code here. Read input from STDIN. Print output to STDOUT\n",
    "from collections import deque\n",
    "\n",
    "N = int(input())\n",
    "d = deque()\n",
    "\n",
    "for _ in range(0,N):\n",
    "    action = input().split()\n",
    "    \n",
    "    if action[0] == \"append\":\n",
    "        d.append( int(action[1]) )\n",
    "        \n",
    "    elif action[0] == \"pop\":\n",
    "        d.pop()\n",
    "    \n",
    "    elif action[0] == \"popleft\":\n",
    "        d.popleft()\n",
    "    \n",
    "    elif action[0] == \"appendleft\":\n",
    "        d.appendleft( int(action[1]) )\n",
    "\n",
    "for i in d:\n",
    "    print(i, end=\" \") "
   ]
  },
  {
   "cell_type": "markdown",
   "metadata": {},
   "source": [
    "##### 7. Company Logo"
   ]
  },
  {
   "cell_type": "code",
   "execution_count": null,
   "metadata": {},
   "outputs": [],
   "source": [
    "#!/bin/python3\n",
    "\n",
    "import math\n",
    "import os\n",
    "import random\n",
    "import re\n",
    "import sys\n",
    "from collections import Counter\n",
    "\n",
    "\n",
    "if __name__ == '__main__':\n",
    "    s = input()\n",
    "    \n",
    "    s = Counter(s)\n",
    "    # tramite la funzione temporanea lamda definisco un tipo di ordinamento descrescente per il secondo valore (grazie al meno) e crescente per il primo\n",
    "    # N.B. per una spiegazione di come funziona lambda guarda Crash Course Python\n",
    "    # N.B. se non fosse stato richiesto anche l'ordinamento per il secondo valore avrei potuto usare s.most_common\n",
    "    s = sorted( s.items() , key= lambda s: (-s[1] , s[0]))\n",
    "    \n",
    "    # non posso usare .most_common perche adesso s e una lista\n",
    "    output = s[:3]\n",
    "    \n",
    "    for letter , frequency in output:\n",
    "        print(letter , frequency)"
   ]
  },
  {
   "cell_type": "markdown",
   "metadata": {},
   "source": [
    "##### 8. Piling Up!"
   ]
  },
  {
   "cell_type": "code",
   "execution_count": null,
   "metadata": {},
   "outputs": [],
   "source": [
    "# Enter your code here. Read input from STDIN. Print output to STDOUT\n",
    "from collections import deque\n",
    "\n",
    "T = int(input())\n",
    "\n",
    "for _ in range(0,T):\n",
    "    n = int(input())\n",
    "    side_lengths = list(map(int , input().split() ))\n",
    "    \n",
    "    # creo un oggetto deque per poter rimuovere sia da destra che da sinistra i blocchi che impilo ad ogni passaggio\n",
    "    block = deque(side_lengths)\n",
    "    pile = []\n",
    "    for _ in range(0, n ):\n",
    "        \n",
    "        # verifico se l'ultimo blocco e piu grande del primo\n",
    "        if block[0] > block[-1]:\n",
    "            pile.append(block[0])\n",
    "            # rimuovo il primo blocco poiche l'ho appena impilato\n",
    "            block.popleft()\n",
    "        \n",
    "        # se i due blocchi sono uguali impilo e rimuovo da destra (scelta arbitrale)\n",
    "        else:\n",
    "            pile.append(block[-1])\n",
    "            block.pop()\n",
    "    \n",
    "    side_lengths.sort(reverse = True)\n",
    "    \n",
    "    if pile == side_lengths:\n",
    "        print(\"Yes\")\n",
    "    else:\n",
    "        print(\"No\")"
   ]
  },
  {
   "cell_type": "markdown",
   "metadata": {},
   "source": [
    "--- \n",
    "\n",
    "### Date and Time"
   ]
  },
  {
   "cell_type": "markdown",
   "metadata": {},
   "source": [
    "##### 1. Calendar Module"
   ]
  },
  {
   "cell_type": "code",
   "execution_count": null,
   "metadata": {},
   "outputs": [],
   "source": [
    "# Enter your code here. Read input from STDIN. Print output to STDOUT\n",
    "import calendar\n",
    "# N.B. guardare la documentazione per vedere i dettagli dei moduli usati (il link sta su HackerRank)\n",
    "\n",
    "date = list(map(int, input().split()))\n",
    "\n",
    "# il modulo .weekday vuole la data inserita nel formato YYYY , MM , DD\n",
    "day = calendar.weekday(date[2] , date[0], date[1])\n",
    "\n",
    "# il modulo .day_name restituisce il nome del giorno della settimana associato al suo codice (0= monday ecc...)\n",
    "day = calendar.day_name[day]\n",
    "\n",
    "# devo usare il modulo .upper perche l'output deve essere maiuscolo\n",
    "print(day.upper())"
   ]
  },
  {
   "cell_type": "markdown",
   "metadata": {},
   "source": [
    "#### 2. Time Delta"
   ]
  },
  {
   "cell_type": "code",
   "execution_count": null,
   "metadata": {},
   "outputs": [],
   "source": [
    "#!/bin/python3\n",
    "\n",
    "import math\n",
    "import os\n",
    "import random\n",
    "import re\n",
    "import sys\n",
    "from datetime import datetime\n",
    "\n",
    "# Complete the time_delta function below.\n",
    "def time_delta(t1, t2):\n",
    "    # converto t1 e t2 in oggetti datetime nel \n",
    "    t1=datetime.strptime(t1, \"%a %d %b %Y %H:%M:%S %z\")\n",
    "    t2=datetime.strptime(t2, \"%a %d %b %Y %H:%M:%S %z\")\n",
    "    \n",
    "    # creo un oggetto timedelta corrispondente alla differenza di fusi orari (tutto il resto e uguale)\n",
    "    delta = abs(t1-t2)\n",
    "    \n",
    "    # applico il modulo .total_seconds() per convertire la differenza di fuso orario in secondi\n",
    "    difference = delta.total_seconds()\n",
    "    \n",
    "    # devo convertire il risultato in un numero intero a 0 cifre decimali (sfrutto int anziche round)\n",
    "    difference = int(difference)\n",
    "    return str(difference)\n",
    "\n",
    "if __name__ == '__main__':\n",
    "    fptr = open(os.environ['OUTPUT_PATH'], 'w')\n",
    "\n",
    "    t = int(input())\n",
    "\n",
    "    for t_itr in range(t):\n",
    "        t1 = input()\n",
    "\n",
    "        t2 = input()\n",
    "\n",
    "        delta = time_delta(t1, t2)\n",
    "\n",
    "        fptr.write(delta + '\\n')\n",
    "\n",
    "    fptr.close()\n"
   ]
  },
  {
   "cell_type": "markdown",
   "metadata": {},
   "source": [
    "---\n",
    "\n",
    "### Exeptions"
   ]
  },
  {
   "cell_type": "code",
   "execution_count": null,
   "metadata": {},
   "outputs": [],
   "source": [
    "# Enter your code here. Read input from STDIN. Print output to STDOUT\n",
    "T = int(input())\n",
    "\n",
    "for _ in range(0,T):\n",
    "    try :\n",
    "        a , b = map( int,input().split() )\n",
    "    except ValueError as error:\n",
    "        print(f\"Error Code: {error}\")\n",
    "        continue\n",
    "    \n",
    "    try :\n",
    "        print( a // b)\n",
    "    except ZeroDivisionError as error:\n",
    "        print(f\"Error Code: {error}\")"
   ]
  },
  {
   "cell_type": "markdown",
   "metadata": {},
   "source": [
    "---\n",
    "\n",
    "### Built-ins"
   ]
  },
  {
   "cell_type": "markdown",
   "metadata": {},
   "source": [
    "#### 1. zipped"
   ]
  },
  {
   "cell_type": "code",
   "execution_count": null,
   "metadata": {},
   "outputs": [],
   "source": [
    "# Enter your code here. Read input from STDIN. Print output to STDOUT\n",
    "N , X = map(int , input().split())\n",
    "exam = list()\n",
    "for _ in range(0,X):\n",
    "    subject = list(map(float,input().split()))\n",
    "    exam.append(subject)\n",
    "    \n",
    "for i in zip(*exam):\n",
    "    print(sum(i) / X )"
   ]
  },
  {
   "cell_type": "markdown",
   "metadata": {},
   "source": [
    "#### 2. Athlete sort"
   ]
  },
  {
   "cell_type": "code",
   "execution_count": null,
   "metadata": {},
   "outputs": [],
   "source": [
    "#!/bin/python3\n",
    "\n",
    "import math\n",
    "import os\n",
    "import random\n",
    "import re\n",
    "import sys\n",
    "\n",
    "\n",
    "\n",
    "if __name__ == '__main__':\n",
    "    nm = input().split()\n",
    "\n",
    "    n = int(nm[0])\n",
    "\n",
    "    m = int(nm[1])\n",
    "\n",
    "    arr = []\n",
    "\n",
    "    for _ in range(n):\n",
    "        arr.append(list(map(int, input().rstrip().split())))\n",
    "\n",
    "    k = int(input())\n",
    "    \n",
    "    # per vedere una spiegazione di come funziona lambda vai al Crash Course Python\n",
    "    arr_sorted = sorted( arr , key= lambda a: a[k])\n",
    "    \n",
    "    for i in arr_sorted:\n",
    "        print(' '.join(map(str, i)))"
   ]
  },
  {
   "cell_type": "markdown",
   "metadata": {},
   "source": [
    "#### 3. ginortS"
   ]
  },
  {
   "cell_type": "code",
   "execution_count": null,
   "metadata": {},
   "outputs": [],
   "source": [
    "# Enter your code here. Read input from STDIN. Print output to STDOUT\n",
    "S = input() \n",
    "\n",
    "# N.B. sfruttando la list comprehensions evito di dover annidare i cicli for\n",
    "lower = sorted( [s for s in S if s.islower()])\n",
    "upper = sorted( [s for s in S if s.isupper()])\n",
    "odd = sorted( [s for s in S if s.isdigit() and int(s) % 2 != 0])\n",
    "even = sorted( [s for s in S if s.isdigit() and int(s) % 2 == 0])\n",
    "\n",
    "output = lower + upper + odd + even\n",
    "print(\"\".join(output))"
   ]
  },
  {
   "cell_type": "markdown",
   "metadata": {},
   "source": [
    "--- \n",
    "\n",
    "### Python Functionals"
   ]
  },
  {
   "cell_type": "markdown",
   "metadata": {},
   "source": [
    "#### 1. Map and Lambda Function"
   ]
  },
  {
   "cell_type": "code",
   "execution_count": null,
   "metadata": {},
   "outputs": [],
   "source": [
    "cube = lambda x: x**3  # complete the lambda function \n",
    "\n",
    "def fibonacci(n):\n",
    "    # return a list of fibonacci numbers\n",
    "    if n == 0:\n",
    "        return []\n",
    "    if n == 1:\n",
    "        return [0]\n",
    "    \n",
    "    fibonacci = [0, 1]\n",
    "    for _ in range(0,n-2):\n",
    "        number = fibonacci[-1] + fibonacci[-2]\n",
    "        fibonacci.append(number)\n",
    "    return fibonacci\n",
    "\n",
    "if __name__ == '__main__':\n",
    "    n = int(input())\n",
    "    print(list(map(cube, fibonacci(n))))"
   ]
  },
  {
   "cell_type": "markdown",
   "metadata": {},
   "source": [
    "---\n",
    "\n",
    "### Regrex and Parsing"
   ]
  },
  {
   "cell_type": "markdown",
   "metadata": {},
   "source": [
    "#### 1. Detect Floating Point Number"
   ]
  },
  {
   "cell_type": "code",
   "execution_count": null,
   "metadata": {},
   "outputs": [],
   "source": [
    "# Enter your code here. Read input from STDIN. Print output to STDOUT\n",
    "import re\n",
    "\n",
    "T = int(input())\n",
    "\n",
    "for _ in range(0,T):\n",
    "    number = input()\n",
    "    \n",
    "    # definisco il pattern che voglio cercare  --> vedi documentazione per i parametri utilizzabili\n",
    "    # N.B. [ ]  delimita una serie di caratteri alternativi che si possono verificare in quella posizione \n",
    "    #           ---> vanno scritti tutti attaccati o separati da un - nel caso sia una sequenza di lettere/numeri (es: 0-9 ; a-z ; A-Z)\n",
    "    #           ---> se all'inizio delle parentesi quadre metto ^ vuol dire che voglio tutto quello che non ho specificato dentro le parentesi\n",
    "    # N.B. ?    vuol dire che il pattern precedente si deve verificaare 0/1 volte\n",
    "    # N.B. *    vuol dire che il pattern precedente si deve verificaare 0 o + volte\n",
    "    # N.B. \\.   vuol dire che in quel punto ci deve essere un punto\n",
    "    # N.B. +    vuol dire che il pattern precedente si deve verificaare almeno 1 volta\n",
    "    pattern = r\"[+-.]?[0-9]*\\.[0-9]+\"\n",
    "    \n",
    "    # ho compilato il pattern\n",
    "    compiled_pattern = re.compile(pattern)\n",
    "    \n",
    "    # cerco il pattern nella stringa data in input\n",
    "    # N.B. il metodo .fullmach permette di verificare una corrispondenza esatta tra il pattern e la stringa \n",
    "    #      --> restituisce None se non c'e corrispondenza oppure un oggetto Match contenete i dettagli della corrisponddenza \n",
    "    match = compiled_pattern.fullmatch(number)\n",
    "    \n",
    "    # un oggetto Match verra valutato come True in caso ci sia stata corrispondenza\n",
    "    if match:\n",
    "        print(\"True\")\n",
    "    else: \n",
    "        print(\"False\")"
   ]
  },
  {
   "cell_type": "markdown",
   "metadata": {},
   "source": [
    "#### 2. Re.split()"
   ]
  },
  {
   "cell_type": "code",
   "execution_count": null,
   "metadata": {},
   "outputs": [],
   "source": [
    "regex_pattern = r\"[,\\.]\"\t# Do not delete 'r'.\n",
    "# uso il pattern per specificare su quali caratteri devo eseguire lo split()\n",
    "\n",
    "import re\n",
    "print(\"\\n\".join(re.split(regex_pattern, input())))"
   ]
  },
  {
   "cell_type": "markdown",
   "metadata": {},
   "source": [
    "#### 3. Group(), Groups() & Groupdict() "
   ]
  },
  {
   "cell_type": "code",
   "execution_count": null,
   "metadata": {},
   "outputs": [],
   "source": [
    "# Enter your code here. Read input from STDIN. Print output to STDOUT\n",
    "import re\n",
    "\n",
    "s = input()\n",
    "\n",
    "# cerco in s tutti i caratteri alfanumerici (escludo l'underscore)\n",
    "match = re.findall(r\"[a-zA-Z0-9]*\",s)\n",
    "# creo una nuova stringa data dal match della ricerca precedente \n",
    "s=\"\".join(match)\n",
    "\n",
    "condition = \"False\"\n",
    "\n",
    "for i in range( 0 , len(s)-1 ):\n",
    "    if s[i] == s[i+1] :\n",
    "        print(s[i])\n",
    "        condition = \"True\"\n",
    "        break\n",
    "\n",
    "if condition == \"False\":\n",
    "    print(-1)"
   ]
  },
  {
   "cell_type": "markdown",
   "metadata": {},
   "source": [
    "#### 4. Re.findall() & Re.finditer()"
   ]
  },
  {
   "cell_type": "code",
   "execution_count": null,
   "metadata": {},
   "outputs": [],
   "source": [
    "# Enter your code here. Read input from STDIN. Print output to STDOUT\n",
    "import re\n",
    "\n",
    "s = input()\n",
    "vocale = \"AaEeIiOoUu\"\n",
    "consonante = \"BbCcDdFfGgHhJjKkLlMmNnPpQqRrSsTtVvWwXxYyZz\"\n",
    "\n",
    "# ?<=[' + consonate + '] --->  verifica se prima ci sta una consonante ma grazie al comando ?<= questa verifica non costituisce un match\n",
    "# ?=[' + consonate + ']  --->  verifica se dopo ci sta una consonante ma grazie al comando ?= questa verifica non costituisce un match\n",
    "match = re.findall(r'(?<=[' + consonante + '])([' + vocale + ']{2,})(?=[' + consonante + '])', s)\n",
    "print('\\n'.join(match or ['-1']))"
   ]
  },
  {
   "cell_type": "markdown",
   "metadata": {},
   "source": [
    "#### 5. Re.start() & Re.end()"
   ]
  },
  {
   "cell_type": "code",
   "execution_count": null,
   "metadata": {},
   "outputs": [],
   "source": [
    "# Enter your code here. Read input from STDIN. Print output to STDOUT\n",
    "import re\n",
    "\n",
    "S = input()\n",
    "k = input()\n",
    "\n",
    "pattern = re.compile(k)\n",
    "match = pattern.search(S)\n",
    "\n",
    "if not match:\n",
    "    print('(-1, -1)')\n",
    "\n",
    "while match:\n",
    "    print(f\"({match.start()}, {match.end()-1})\")\n",
    "    # cerco una nuova corrispondenza a partire dall'indice successivo all'ultima corrispondenza\n",
    "    match = pattern.search(S, match.start() + 1)"
   ]
  },
  {
   "cell_type": "markdown",
   "metadata": {},
   "source": [
    "#### 6. Regrex Substitution"
   ]
  },
  {
   "cell_type": "code",
   "execution_count": null,
   "metadata": {},
   "outputs": [],
   "source": [
    "# Enter your code here. Read input from STDIN. Print output to STDOUT\n",
    "import re\n",
    "\n",
    "N = int(input())\n",
    "\n",
    "for i in range(0,N):\n",
    "    text = str(input())\n",
    "    \n",
    "    # ?<= rende il match valodo solo se preceduto dal match associato a ?<=\n",
    "    # ?=  rende il match valodo solo se seguito dal match associato a ?<=\n",
    "    symbol1 = re.compile(r'(?<= )&&(?= )')\n",
    "    symbol2 = re.compile(r'(?<= )(\\|\\|)(?= )')\n",
    "    \n",
    "    first_conversion = re.sub(symbol1,\"and\",text)\n",
    "    final_conversion = re.sub(symbol2,\"or\", first_conversion)\n",
    "    \n",
    "    print(final_conversion)\n",
    "    "
   ]
  },
  {
   "cell_type": "markdown",
   "metadata": {},
   "source": [
    "#### 7. Validating Roman Numerals"
   ]
  },
  {
   "cell_type": "code",
   "execution_count": null,
   "metadata": {},
   "outputs": [],
   "source": [
    "# ^ ... $ fa in modo che il match si verifichi solo in caso di corrispondenza dall'inizio alla fine della stringa\n",
    "# A?B{0,n} vuol dire che B puo essere presente da 0 a n volte e puo essere seguito o meno da una A\n",
    "regex_pattern = r\"^(M{0,3})(CM|CD|D?C{0,3})(XC|XL|L?X{0,3})(IX|IV|V?I{0,3})$\"\t# Do not delete 'r'.\n",
    "\n",
    "import re\n",
    "print(str(bool(re.match(regex_pattern, input()))))"
   ]
  },
  {
   "cell_type": "markdown",
   "metadata": {},
   "source": [
    "#### 8. Validating phone numbers"
   ]
  },
  {
   "cell_type": "code",
   "execution_count": null,
   "metadata": {},
   "outputs": [],
   "source": [
    "# Enter your code here. Read input from STDIN. Print output to STDOUT\n",
    "import re\n",
    "\n",
    "N = int(input())\n",
    "\n",
    "for _ in range(0,N):\n",
    "    \n",
    "    number = input()\n",
    "    match = re.match(r\"^(7|8|9){1,1}[0-9]{9,9}$\", number)\n",
    "    \n",
    "    if match:\n",
    "        print(\"YES\")\n",
    "    else:\n",
    "        print(\"NO\")"
   ]
  },
  {
   "cell_type": "markdown",
   "metadata": {},
   "source": [
    "#### 9. Validating and Parsing Email Addresses"
   ]
  },
  {
   "cell_type": "code",
   "execution_count": null,
   "metadata": {},
   "outputs": [],
   "source": [
    "# Enter your code here. Read input from STDIN. Print output to STDOUT\n",
    "import re\n",
    "\n",
    "n = int(input())\n",
    "\n",
    "for _ in range(0,n):\n",
    "    name , email = input().split()\n",
    "    match = re.match(r\"^<[A-Za-z](\\w|-|\\.|_)+@[A-Za-z]+\\.[A-Za-z]{1,3}>$\", email)\n",
    "    \n",
    "    if match:\n",
    "        print(name, email)"
   ]
  },
  {
   "cell_type": "markdown",
   "metadata": {},
   "source": [
    "#### 10. Hex color Code"
   ]
  },
  {
   "cell_type": "code",
   "execution_count": null,
   "metadata": {},
   "outputs": [],
   "source": [
    "# Enter your code here. Read input from STDIN. Print output to STDOUT\n",
    "import re\n",
    "\n",
    "N = int(input())\n",
    "\n",
    "for _ in range(0,N):\n",
    "    match = re.findall(r\"(#[a-fA-F0-9]{3,6})\\S\", input())\n",
    "    \n",
    "    if match:\n",
    "        print(*match, sep='\\n')"
   ]
  },
  {
   "cell_type": "markdown",
   "metadata": {},
   "source": [
    "#### 11. HTML Parser - Part 1"
   ]
  },
  {
   "cell_type": "code",
   "execution_count": null,
   "metadata": {},
   "outputs": [],
   "source": [
    "# Enter your code here. Read input from STDIN. Print output to STDOUT\n",
    "from html.parser import HTMLParser\n",
    "\n",
    "class MyHTMLParser(HTMLParser):\n",
    "    \n",
    "    def handle_starttag(self, tag, attributes):\n",
    "        print ('Start :', tag)\n",
    "        for a in attributes:\n",
    "            print ('->', a[0], '>', a[1])\n",
    "            \n",
    "    def handle_startendtag(self, tag, attributes):\n",
    "        print ('Empty :', tag)\n",
    "        for a in attributes:\n",
    "            print ('->', a[0], '>', a[1])\n",
    "            \n",
    "    def handle_endtag(self, tag):\n",
    "        print ('End   :', tag)\n",
    "\n",
    "parser = MyHTMLParser()\n",
    "N = int(input())\n",
    "\n",
    "for _ in range(0, N):\n",
    "    parser.feed(input())"
   ]
  },
  {
   "cell_type": "markdown",
   "metadata": {},
   "source": [
    "#### 12. HTML Parser - Part 2"
   ]
  },
  {
   "cell_type": "code",
   "execution_count": null,
   "metadata": {},
   "outputs": [],
   "source": [
    "from html.parser import HTMLParser\n",
    "\n",
    "class MyHTMLParser(HTMLParser):\n",
    "    \n",
    "    def handle_comment(self, comment):\n",
    "        if '\\n' in comment:\n",
    "            print('>>> Multi-line Comment')\n",
    "        else:\n",
    "            print('>>> Single-line Comment')\n",
    "\n",
    "        print(comment)\n",
    "\n",
    "    def handle_data(self, data):\n",
    "        if data == '\\n': \n",
    "            return\n",
    "            \n",
    "        print('>>> Data')\n",
    "        print(data)\n",
    "  \n",
    "html = \"\"       \n",
    "for i in range(int(input())):\n",
    "    html += input().rstrip()\n",
    "    html += '\\n'\n",
    "    \n",
    "parser = MyHTMLParser()\n",
    "parser.feed(html)\n",
    "parser.close()"
   ]
  },
  {
   "cell_type": "markdown",
   "metadata": {},
   "source": [
    "#### 13. Detect HTML Tags, Attributes and Attribute Values"
   ]
  },
  {
   "cell_type": "code",
   "execution_count": null,
   "metadata": {},
   "outputs": [],
   "source": [
    "# Enter your code here. Read input from STDIN. Print output to STDOUT\n",
    "from html.parser import HTMLParser\n",
    "\n",
    "class MyHTMLParser(HTMLParser):\n",
    "    \n",
    "    def handle_starttag(self, tag, attribute):\n",
    "        print(tag)\n",
    "        \n",
    "        for a in attribute:\n",
    "            print(\"-> {} > {}\".format(*a))\n",
    "\n",
    "N=int(input())\n",
    "parser = MyHTMLParser()\n",
    "\n",
    "for _ in range(N):\n",
    "    S = input()\n",
    "    parser.feed(S)"
   ]
  },
  {
   "cell_type": "markdown",
   "metadata": {},
   "source": [
    "#### 14. Validating UID"
   ]
  },
  {
   "cell_type": "code",
   "execution_count": null,
   "metadata": {},
   "outputs": [],
   "source": [
    "# Enter your code here. Read input from STDIN. Print output to STDOUT\n",
    "import re\n",
    "from collections import Counter\n",
    "\n",
    "N = int(input())\n",
    "\n",
    "for _ in range(0, N):\n",
    "    uid = input()\n",
    "    \n",
    "    # controllo che ci siano almeno 10 caratteri alfanumerici\n",
    "    if not re.match(r\"^[a-zA-Z0-9]{10}$\", uid):\n",
    "        print(\"Invalid\")\n",
    "        continue\n",
    "    \n",
    "    # controllo che non ci siano caratteri ripetuti\n",
    "    if len(Counter(uid)) != len(uid):\n",
    "        print(\"Invalid\")\n",
    "        continue\n",
    "    \n",
    "    # controllo che ci siano almeno 2 lettere maiuscole\n",
    "    if len(re.findall(r\"[A-Z]\", uid)) < 2:\n",
    "        print(\"Invalid\")\n",
    "        continue\n",
    "    \n",
    "    # controllo che ci siano almeno 3 numeri\n",
    "    if len(re.findall(r\"\\d\", uid)) < 3:\n",
    "        print(\"Invalid\")\n",
    "        continue\n",
    "    \n",
    "    # uid ha passato tutti i test quindi e valido\n",
    "    print(\"Valid\")"
   ]
  },
  {
   "cell_type": "markdown",
   "metadata": {},
   "source": [
    "#### 15. Validating Credit Card Numbers"
   ]
  },
  {
   "cell_type": "code",
   "execution_count": null,
   "metadata": {},
   "outputs": [],
   "source": [
    "import re\n",
    "\n",
    "N = int(input())\n",
    "\n",
    "for _ in range(N):\n",
    "    card = input( )\n",
    "    \n",
    "    # controllo che la carta inizi con 4, 5 o 6\n",
    "    if not re.match(r\"^[4-6]\", card):\n",
    "        print(\"Invalid\")\n",
    "        continue\n",
    "    \n",
    "    # se ci sta un - verifico che esso separi numeri in gruppi di 4\n",
    "    if \"-\" in card:\n",
    "        if not re.match(r\"^\\d{4}-\\d{4}-\\d{4}-\\d{4}$\", card):\n",
    "            print(\"Invalid\")\n",
    "            continue\n",
    "            \n",
    "    # rimuovo solo il - come separatore, gli altri daranno errore se presenti\n",
    "    card = card.replace(\"-\", \"\")\n",
    "    \n",
    "    # controllo che non ci siano 4 o piu cifre consecutive uguali\n",
    "    if re.search(r\"(\\d)(\\1{3,})\", card):\n",
    "        print(\"Invalid\")\n",
    "        continue\n",
    "    \n",
    "    # controllo che la lunghezza totale sia di 16 cifre\n",
    "    if not re.match(r\"^\\d{16}$\", card):\n",
    "        print(\"Invalid\")\n",
    "        continue\n",
    "    \n",
    "    print(\"Valid\")"
   ]
  },
  {
   "cell_type": "markdown",
   "metadata": {},
   "source": [
    "#### 16. Validating Postal Codes"
   ]
  },
  {
   "cell_type": "code",
   "execution_count": null,
   "metadata": {},
   "outputs": [],
   "source": [
    "regex_integer_in_range = r\"^[1-9][0-9]{5}$\"\t# Do not delete 'r'.\n",
    "regex_alternating_repetitive_digit_pair = r\"([0-9])(?=[0-9]\\1)\"\t# Do not delete 'r'.\n",
    "\n",
    "\n",
    "import re\n",
    "P = input()\n",
    "\n",
    "print (bool(re.match(regex_integer_in_range, P)) \n",
    "and len(re.findall(regex_alternating_repetitive_digit_pair, P)) < 2)"
   ]
  },
  {
   "cell_type": "markdown",
   "metadata": {},
   "source": [
    "#### 17. Max Script"
   ]
  },
  {
   "cell_type": "code",
   "execution_count": null,
   "metadata": {},
   "outputs": [],
   "source": [
    "#!/bin/python3\n",
    "\n",
    "import math\n",
    "import os\n",
    "import random\n",
    "import re\n",
    "import sys\n",
    "\n",
    "\n",
    "\n",
    "\n",
    "first_multiple_input = input().rstrip().split()\n",
    "\n",
    "n = int(first_multiple_input[0])\n",
    "\n",
    "m = int(first_multiple_input[1])\n",
    "\n",
    "# creo m liste vuote in cui inseriro il testo di ogni colonna\n",
    "matrix = [\"\"] * m\n",
    "\n",
    "# verifico che tra due caratteri alfanumerici vi siano 1 o piu caratteri non alfanumerici\n",
    "pattern = r\"(?<=[A-Za-z\\d])[^A-Za-z\\d]+(?=[A-Za-z\\d])\" \n",
    "\n",
    "# inserisco ogni elemento nella giusta colonna\n",
    "for i in range(0,n):\n",
    "    matrix_item = input()\n",
    "    for j in range(m):\n",
    "        matrix[j] += matrix_item[j]\n",
    "\n",
    "# unisco le liste per formare il testo\n",
    "text = \"\".join(matrix)\n",
    "\n",
    "decoded_text = \"\"\n",
    "decoded_text += re.sub(pattern, \" \", text)\n",
    "print(decoded_text)\n"
   ]
  },
  {
   "cell_type": "markdown",
   "metadata": {},
   "source": [
    "---\n",
    "\n",
    "### XML"
   ]
  },
  {
   "cell_type": "markdown",
   "metadata": {},
   "source": [
    "#### 1. XML 1 - Find the Score"
   ]
  },
  {
   "cell_type": "code",
   "execution_count": null,
   "metadata": {},
   "outputs": [],
   "source": [
    "import sys\n",
    "import xml.etree.ElementTree as etree\n",
    "\n",
    "def get_attr_number(node):\n",
    "    # your code goes here\n",
    "    attribute =0\n",
    "    for i in node.iter(): #prende tutte le tag come se non fossero annidate \n",
    "        attribute += len(i.attrib)\n",
    "    return attribute\n",
    "\n",
    "if __name__ == '__main__':\n",
    "    sys.stdin.readline()\n",
    "    xml = sys.stdin.read()\n",
    "    tree = etree.ElementTree(etree.fromstring(xml))\n",
    "    root = tree.getroot()\n",
    "    print(get_attr_number(root))"
   ]
  },
  {
   "cell_type": "markdown",
   "metadata": {},
   "source": [
    "#### 2. XML 2 - Find the Maximum Depth "
   ]
  },
  {
   "cell_type": "code",
   "execution_count": null,
   "metadata": {},
   "outputs": [],
   "source": [
    "import xml.etree.ElementTree as etree\n",
    "\n",
    "maxdepth = 0\n",
    "def depth(elem, level):\n",
    "    global maxdepth\n",
    "    # your code goes here\n",
    "    \n",
    "    if level == maxdepth:\n",
    "        maxdepth += 1\n",
    "        \n",
    "    for i in elem:\n",
    "        depth(i, level + 1)\n",
    "\n",
    "if __name__ == '__main__':\n",
    "    n = int(input())\n",
    "    xml = \"\"\n",
    "    for i in range(n):\n",
    "        xml =  xml + input() + \"\\n\"\n",
    "    tree = etree.ElementTree(etree.fromstring(xml))\n",
    "    depth(tree.getroot(), -1)\n",
    "    print(maxdepth)"
   ]
  },
  {
   "cell_type": "markdown",
   "metadata": {},
   "source": [
    "---\n",
    "\n",
    "### Closures and Decorations"
   ]
  },
  {
   "cell_type": "markdown",
   "metadata": {},
   "source": [
    "#### 1. Standardize Mobile Number Using Decorators"
   ]
  },
  {
   "cell_type": "code",
   "execution_count": null,
   "metadata": {},
   "outputs": [],
   "source": [
    "def wrapper(f):\n",
    "    def fun(l):\n",
    "        numero_formattato = []\n",
    "        \n",
    "        for numero in l:\n",
    "            # attacco i primi 5 numeri usando uno slicing inverso per evitare i problemi con i numeri scritti all'inizio\n",
    "            # attacco gli ultimi 5 numeri\n",
    "            numero_formattato.append(f\"+{91} {numero[-10:-5]} {numero[-5::]}\")\n",
    "        \n",
    "        f(numero_formattato)\n",
    "    \n",
    "    return fun\n",
    "    \n",
    "# N.B. con @wrapper quando chiamo sort_phone eseguo prima la funzione wrapper con cui formatto i numeri di telefono\n",
    "@wrapper\n",
    "def sort_phone(l):\n",
    "    print(*sorted(l), sep='\\n')\n",
    "\n",
    "if __name__ == '__main__':\n",
    "    l = [input() for _ in range(int(input()))]\n",
    "    sort_phone(l) "
   ]
  },
  {
   "cell_type": "markdown",
   "metadata": {},
   "source": [
    "#### 2. Decorators 2 - Name Directory"
   ]
  },
  {
   "cell_type": "code",
   "execution_count": null,
   "metadata": {},
   "outputs": [],
   "source": [
    "import operator\n",
    "\n",
    "def person_lister(f):\n",
    "    def inner(people):\n",
    "        # complete the function\n",
    "        people = sorted(people, key=lambda x: int(x[-2]))\n",
    "        return [f(person) for person in people]\n",
    "    return inner\n",
    "\n",
    "@person_lister\n",
    "def name_format(person):\n",
    "    return (\"Mr. \" if person[3] == \"M\" else \"Ms. \") + person[0] + \" \" + person[1]\n",
    "\n",
    "if __name__ == '__main__':\n",
    "    people = [input().split() for i in range(int(input()))]\n",
    "    print(*name_format(people), sep='\\n')"
   ]
  },
  {
   "cell_type": "markdown",
   "metadata": {},
   "source": [
    "---\n",
    "\n",
    "### Numpy"
   ]
  },
  {
   "cell_type": "markdown",
   "metadata": {},
   "source": [
    "#### 1. Arrays"
   ]
  },
  {
   "cell_type": "code",
   "execution_count": null,
   "metadata": {},
   "outputs": [],
   "source": [
    "import numpy\n",
    "\n",
    "def arrays(arr):\n",
    "    # complete this function\n",
    "    # use numpy.array\n",
    "    arr = numpy.array(arr, float)\n",
    "    arr = arr[::-1]\n",
    "    return arr\n",
    "\n",
    "arr = input().strip().split(' ')\n",
    "result = arrays(arr)\n",
    "print(result)"
   ]
  },
  {
   "cell_type": "markdown",
   "metadata": {},
   "source": [
    "#### 2. Shape and Reshape"
   ]
  },
  {
   "cell_type": "code",
   "execution_count": null,
   "metadata": {},
   "outputs": [],
   "source": [
    "import numpy as np\n",
    "\n",
    "my_array = np.array( list(map(int,input().split() )))\n",
    "print(np.reshape(my_array,(3,3)))"
   ]
  },
  {
   "cell_type": "markdown",
   "metadata": {},
   "source": [
    "#### 3. Transpose and Flatten"
   ]
  },
  {
   "cell_type": "code",
   "execution_count": null,
   "metadata": {},
   "outputs": [],
   "source": [
    "import numpy as np\n",
    "\n",
    "n , m = map(int , input().split())\n",
    "array = list()\n",
    "\n",
    "for _ in range(0,n):\n",
    "    line = list(map(int , input().split() ))\n",
    "    array.append(line)\n",
    "\n",
    "np_array= np.array(array, int)\n",
    "\n",
    "print(np.transpose(np_array))\n",
    "print(np_array.flatten())"
   ]
  },
  {
   "cell_type": "markdown",
   "metadata": {},
   "source": [
    "#### 4. Concatenate"
   ]
  },
  {
   "cell_type": "code",
   "execution_count": null,
   "metadata": {},
   "outputs": [],
   "source": [
    "import numpy as np\n",
    "\n",
    "N , M , P = map(int, input().split())\n",
    "\n",
    "array_1 = list()\n",
    "for _ in range(0,N):\n",
    "    array_1.append( list(map(int,input().split())) ) \n",
    "array_1 = np.array(array_1, int)\n",
    "\n",
    "array_2 = list()\n",
    "for _ in range(0,M):\n",
    "    array_2.append( list(map(int,input().split())) ) \n",
    "array_2 = np.array(array_2 , int)\n",
    "\n",
    "print(np.concatenate((array_1, array_2), axis = 0) )"
   ]
  },
  {
   "cell_type": "markdown",
   "metadata": {},
   "source": [
    "#### 5. Zeros and Ones"
   ]
  },
  {
   "cell_type": "code",
   "execution_count": null,
   "metadata": {},
   "outputs": [],
   "source": [
    "import numpy as np\n",
    "\n",
    "size = tuple(map(int, input().split()) )\n",
    "\n",
    "print(np.zeros(size, dtype = int))\n",
    "print(np.ones(size, dtype = int))\n"
   ]
  },
  {
   "cell_type": "markdown",
   "metadata": {},
   "source": [
    "#### 6. Eye and Identity"
   ]
  },
  {
   "cell_type": "code",
   "execution_count": null,
   "metadata": {},
   "outputs": [],
   "source": [
    "import numpy as np\n",
    "np.set_printoptions(legacy='1.13')\n",
    "\n",
    "N , M = map(int,input().split())\n",
    "\n",
    "print(np.eye(N,M, k = 0))\n"
   ]
  },
  {
   "cell_type": "markdown",
   "metadata": {},
   "source": [
    "#### 7. Array Mathematics"
   ]
  },
  {
   "cell_type": "code",
   "execution_count": null,
   "metadata": {},
   "outputs": [],
   "source": [
    "import numpy as  np\n",
    "\n",
    "N , M = list(map(int,input().split()))\n",
    "\n",
    "A = list()\n",
    "for _ in range(0,N):\n",
    "    line = list(map(int,input().split()))\n",
    "    A.append(line)\n",
    "\n",
    "A = np.array(A)\n",
    "\n",
    "B = list()\n",
    "for _ in range(0,N):\n",
    "    line = list(map(int,input().split()))\n",
    "    B.append(line)\n",
    "\n",
    "B = np.array(B)\n",
    "\n",
    "print( A+B )\n",
    "print( A-B ) \n",
    "print( A*B ) \n",
    "print( A//B )\n",
    "print( A%B )\n",
    "print( A**B )"
   ]
  },
  {
   "cell_type": "markdown",
   "metadata": {},
   "source": [
    "#### 8. Froor, Ceil and Rint"
   ]
  },
  {
   "cell_type": "code",
   "execution_count": null,
   "metadata": {},
   "outputs": [],
   "source": [
    "import numpy as np\n",
    "np.set_printoptions(legacy=\"1.13\")\n",
    "\n",
    "arr = np.array(list(map(float,input().split())))\n",
    "\n",
    "print(np.floor(arr))\n",
    "print(np.ceil(arr))\n",
    "print(np.rint(arr))"
   ]
  },
  {
   "cell_type": "markdown",
   "metadata": {},
   "source": [
    "#### 9. Sum and Prod"
   ]
  },
  {
   "cell_type": "code",
   "execution_count": null,
   "metadata": {},
   "outputs": [],
   "source": [
    "import numpy as np\n",
    "\n",
    "N , M = list(map(int,input().split()))\n",
    "\n",
    "arr = list()\n",
    "for _ in range(0,N):\n",
    "    riga = list(map(int, input().split() ))\n",
    "    arr.append(riga)\n",
    "arr = np.array(arr)\n",
    "\n",
    "somma = np.sum(arr , axis = 0)\n",
    "product = np.prod(somma)\n",
    "\n",
    "print(product)"
   ]
  },
  {
   "cell_type": "markdown",
   "metadata": {},
   "source": [
    "#### 10. Min and Max"
   ]
  },
  {
   "cell_type": "code",
   "execution_count": null,
   "metadata": {},
   "outputs": [],
   "source": [
    "import numpy as np\n",
    "N, M = list(map(int,input().split()))\n",
    "\n",
    "A = list()\n",
    "for _ in range(0,N):\n",
    "    line = list(map(int,input().split()))\n",
    "    A.append(line)\n",
    "A = np.array(A)\n",
    "\n",
    "minimum = np.min(A , axis=1)\n",
    "print(np.max(minimum))"
   ]
  },
  {
   "cell_type": "markdown",
   "metadata": {},
   "source": [
    "#### 11. Mean, Var, and Std"
   ]
  },
  {
   "cell_type": "code",
   "execution_count": null,
   "metadata": {},
   "outputs": [],
   "source": [
    "import numpy as np\n",
    "\n",
    "N , M = map(int, input().split())\n",
    "\n",
    "A = list()\n",
    "for _ in range(N):\n",
    "    line = list(input().split())\n",
    "    A.append(line)\n",
    "    \n",
    "A = np.array(A,int)\n",
    "\n",
    "print(np.mean(A , axis=1))\n",
    "print(np.var(A , axis=0))\n",
    "print(round(np.std(A , axis=None) , 11))"
   ]
  },
  {
   "cell_type": "markdown",
   "metadata": {},
   "source": [
    "#### 12. Dot and Cross"
   ]
  },
  {
   "cell_type": "code",
   "execution_count": null,
   "metadata": {},
   "outputs": [],
   "source": [
    "import numpy as np\n",
    "\n",
    "N = int(input())\n",
    "\n",
    "A = list()\n",
    "for i in range(0,N):\n",
    "    A.append( list(map(int, input().split())) )\n",
    "A = np.array(A)\n",
    "\n",
    "B = list()\n",
    "for t in range(0,N):\n",
    "    B.append( list(map(int,input().split())) )\n",
    "B = np.array(B)\n",
    "\n",
    "print(np.matmul(A,B))"
   ]
  },
  {
   "cell_type": "markdown",
   "metadata": {},
   "source": [
    "#### 13. Inner and Outer"
   ]
  },
  {
   "cell_type": "code",
   "execution_count": null,
   "metadata": {},
   "outputs": [],
   "source": [
    "import numpy as np\n",
    "\n",
    "A = np.array(list(map(int,input().split())))\n",
    "B = np.array(list(map(int,input().split())))\n",
    "\n",
    "print(np.inner(A,B))\n",
    "print(np.outer(A,B))"
   ]
  },
  {
   "cell_type": "markdown",
   "metadata": {},
   "source": [
    "#### 14. Polynomials"
   ]
  },
  {
   "cell_type": "code",
   "execution_count": null,
   "metadata": {},
   "outputs": [],
   "source": [
    "import numpy as np\n",
    "\n",
    "P = np.array(list(map(float, input().split())))\n",
    "x = int(input())\n",
    "\n",
    "print(np.polyval(P,x))"
   ]
  },
  {
   "cell_type": "markdown",
   "metadata": {},
   "source": [
    "#### 15. Linear Algebra"
   ]
  },
  {
   "cell_type": "code",
   "execution_count": null,
   "metadata": {},
   "outputs": [],
   "source": [
    "import numpy as np\n",
    "\n",
    "N = int(input())\n",
    "\n",
    "matrix = list()\n",
    "for _ in range(N):\n",
    "    matrix.append( list(map(float,input().split())) )\n",
    "matrix = np.array(matrix,float)\n",
    "    \n",
    "print(str(round(np.linalg.det(matrix),2)))"
   ]
  },
  {
   "cell_type": "markdown",
   "metadata": {},
   "source": [
    "---\n",
    "\n",
    "## Problem 2"
   ]
  },
  {
   "cell_type": "markdown",
   "metadata": {},
   "source": [
    "#### 1. Birthday Cake Candles"
   ]
  },
  {
   "cell_type": "code",
   "execution_count": null,
   "metadata": {},
   "outputs": [],
   "source": [
    "#!/bin/python3\n",
    "\n",
    "import math\n",
    "import os\n",
    "import random\n",
    "import re\n",
    "import sys\n",
    "\n",
    "#\n",
    "# Complete the 'birthdayCakeCandles' function below.\n",
    "#\n",
    "# The function is expected to return an INTEGER.\n",
    "# The function accepts INTEGER_ARRAY candles as parameter.\n",
    "#\n",
    "\n",
    "def birthdayCakeCandles(candles):\n",
    "    # Write your code here\n",
    "    maximum = max(candles)\n",
    "    \n",
    "    total = candles.count(maximum)\n",
    "    \n",
    "    return total\n",
    "\n",
    "if __name__ == '__main__':\n",
    "    fptr = open(os.environ['OUTPUT_PATH'], 'w')\n",
    "\n",
    "    candles_count = int(input().strip()) \n",
    "\n",
    "    candles = list(map(int, input().rstrip().split()))\n",
    "\n",
    "    result = birthdayCakeCandles(candles)\n",
    "\n",
    "    fptr.write(str(result) + '\\n')\n",
    "\n",
    "    fptr.close()"
   ]
  },
  {
   "cell_type": "markdown",
   "metadata": {},
   "source": [
    "#### 2. Kangaroo"
   ]
  },
  {
   "cell_type": "code",
   "execution_count": null,
   "metadata": {},
   "outputs": [],
   "source": [
    "#!/bin/python3\n",
    "\n",
    "import math\n",
    "import os\n",
    "import random\n",
    "import re\n",
    "import sys\n",
    "\n",
    "#\n",
    "# Complete the 'kangaroo' function below.\n",
    "#\n",
    "# The function is expected to return a STRING.\n",
    "# The function accepts following parameters:\n",
    "#  1. INTEGER x1\n",
    "#  2. INTEGER v1\n",
    "#  3. INTEGER x2\n",
    "#  4. INTEGER v2\n",
    "#\n",
    "\n",
    "def kangaroo(x1, v1, x2, v2):\n",
    "    # Write your code here\n",
    "    if v1 == v2:\n",
    "        return \"NO\"\n",
    "    \n",
    "    n = abs((x2-x1) % (v1-v2))\n",
    "    \n",
    "    if (x1 > x2 and v1 > v2) or (x1 < x2 and v1 < v2):\n",
    "        return \"NO\"\n",
    "        \n",
    "    elif (x1 != x2) and (v1 == v2):\n",
    "        return \"NO\"\n",
    "        \n",
    "    elif n == 0 :\n",
    "        return \"YES\"\n",
    "    else:\n",
    "        return \"NO\"\n",
    "        \n",
    "if __name__ == '__main__':\n",
    "    fptr = open(os.environ['OUTPUT_PATH'], 'w')\n",
    "\n",
    "    first_multiple_input = input().rstrip().split()\n",
    "\n",
    "    x1 = int(first_multiple_input[0])\n",
    "\n",
    "    v1 = int(first_multiple_input[1])\n",
    "\n",
    "    x2 = int(first_multiple_input[2])\n",
    "\n",
    "    v2 = int(first_multiple_input[3])\n",
    "\n",
    "    result = kangaroo(x1, v1, x2, v2)\n",
    "\n",
    "    fptr.write(result + '\\n')\n",
    "\n",
    "    fptr.close()"
   ]
  },
  {
   "cell_type": "markdown",
   "metadata": {},
   "source": [
    "#### 3. Strange Advertising"
   ]
  },
  {
   "cell_type": "code",
   "execution_count": null,
   "metadata": {},
   "outputs": [],
   "source": [
    "#!/bin/python3\n",
    "\n",
    "import math\n",
    "import os\n",
    "import random\n",
    "import re\n",
    "import sys\n",
    "\n",
    "#\n",
    "# Complete the 'viralAdvertising' function below.\n",
    "#\n",
    "# The function is expected to return an INTEGER.\n",
    "# The function accepts INTEGER n as parameter.\n",
    "#\n",
    "\n",
    "def viralAdvertising(n):\n",
    "    # Write your code here\n",
    "    cumulative=0\n",
    "    shared = 5\n",
    "    \n",
    "    for day in range(0,n):\n",
    "        like = shared // 2\n",
    "        shared = like * 3\n",
    "        cumulative += like\n",
    "    \n",
    "    return cumulative\n",
    "    \n",
    "if __name__ == '__main__':\n",
    "    fptr = open(os.environ['OUTPUT_PATH'], 'w')\n",
    "\n",
    "    n = int(input().strip())\n",
    "\n",
    "    result = viralAdvertising(n)\n",
    "\n",
    "    fptr.write(str(result) + '\\n')\n",
    "\n",
    "    fptr.close()\n"
   ]
  },
  {
   "cell_type": "markdown",
   "metadata": {},
   "source": [
    "#### 4. Recursive Digit Sum"
   ]
  },
  {
   "cell_type": "code",
   "execution_count": null,
   "metadata": {},
   "outputs": [],
   "source": [
    "#!/bin/python3\n",
    "\n",
    "import math\n",
    "import os\n",
    "import random\n",
    "import re\n",
    "import sys\n",
    "\n",
    "#\n",
    "# Complete the 'superDigit' function below.\n",
    "#\n",
    "# The function is expected to return an INTEGER.\n",
    "# The function accepts following parameters:\n",
    "#  1. STRING n\n",
    "#  2. INTEGER k\n",
    "#\n",
    "\n",
    "def superDigit(n, k):\n",
    "    # Write your code here\n",
    "    partial_p = sum(list(map(int, [i for i in str(n)])))\n",
    "    result = partial_p * k\n",
    "\n",
    "    # finche non arrivo all'ultimo step richiamo la funzione superdigit cambiando il parametro k con k=1\n",
    "    if len(str(result)) > 1:\n",
    "        return superDigit(result, 1)\n",
    "\n",
    "    return result\n",
    "\n",
    "if __name__ == '__main__':\n",
    "    fptr = open(os.environ['OUTPUT_PATH'], 'w')\n",
    "\n",
    "    first_multiple_input = input().rstrip().split()\n",
    "\n",
    "    n = first_multiple_input[0]\n",
    "\n",
    "    k = int(first_multiple_input[1])\n",
    "\n",
    "    result = superDigit(n, k)\n",
    "\n",
    "    fptr.write(str(result) + '\\n')\n",
    "\n",
    "    fptr.close()\n"
   ]
  },
  {
   "cell_type": "markdown",
   "metadata": {},
   "source": [
    "#### 5. Insertion Sort - Part 1"
   ]
  },
  {
   "cell_type": "code",
   "execution_count": null,
   "metadata": {},
   "outputs": [],
   "source": [
    "#!/bin/python3\n",
    "\n",
    "import math\n",
    "import os\n",
    "import random\n",
    "import re\n",
    "import sys\n",
    "\n",
    "#\n",
    "# Complete the 'insertionSort1' function below.\n",
    "#\n",
    "# The function accepts following parameters:\n",
    "#  1. INTEGER n\n",
    "#  2. INTEGER_ARRAY arr\n",
    "#\n",
    "\n",
    "def insertionSort1(n, arr):\n",
    "    # Write your code here\n",
    "    number = arr[n-1]\n",
    "    \n",
    "    for i in range(n-2, -1, -1):\n",
    "        if arr[i] > number:\n",
    "            # se il numero in posizione i e maggiore di number copio quel numero nella posizione successiva della lista\n",
    "            arr[i+1] = arr[i]\n",
    "            print(*arr , sep = \" \")\n",
    "\n",
    "            # se arrivo a spostare il numero in posizione i=0 allora number e il numero minore della lista\n",
    "            if i == 0:\n",
    "                arr[0] = number\n",
    "                print(*arr , sep = \" \")\n",
    "                \n",
    "        else:\n",
    "            # se il numero in posizione i e minore di number inserisco number nella posizione i+1\n",
    "            arr[i+1] = number\n",
    "            print(*arr , sep = \" \")\n",
    "            break\n",
    "    \n",
    "\n",
    "if __name__ == '__main__':\n",
    "    n = int(input().strip())\n",
    "\n",
    "    arr = list(map(int, input().rstrip().split()))\n",
    "\n",
    "    insertionSort1(n, arr)\n"
   ]
  },
  {
   "cell_type": "markdown",
   "metadata": {},
   "source": [
    "#### 6. Insertion Sort - Part 2"
   ]
  },
  {
   "cell_type": "code",
   "execution_count": null,
   "metadata": {},
   "outputs": [],
   "source": [
    "#!/bin/python3\n",
    "\n",
    "import math\n",
    "import os\n",
    "import random\n",
    "import re\n",
    "import sys\n",
    "\n",
    "#\n",
    "# Complete the 'insertionSort2' function below.\n",
    "#\n",
    "# The function accepts following parameters:\n",
    "#  1. INTEGER n\n",
    "#  2. INTEGER_ARRAY arr\n",
    "#\n",
    "\n",
    "def insertionSort2(n, arr):\n",
    "    # Write your code here\n",
    "    for i in range(1,n):\n",
    "        j = i\n",
    "        \n",
    "        # questo ciclo while prende il numero in posizione i e lo mette al suo posto\n",
    "        # la condizione j>0 e necessaria per evitare che j-1 scenda sotto lo 0\n",
    "        while (j > 0 and arr[j] < arr[j-1]):\n",
    "            # scambio i numeri fintanto che il numero in posizione j e piu piccolo del precedente\n",
    "            x = arr[j]\n",
    "            \n",
    "            # porto avanti il numero in posizione j-1\n",
    "            arr[j] = arr[j-1]\n",
    "            \n",
    "            # porto indietro il numero originalmente in posizione j\n",
    "            arr[j-1] = x\n",
    "            \n",
    "            j -= 1  # procedo a ritroso a partire dalla posizione i\n",
    "\n",
    "        print(*arr, sep=\" \")\n",
    "\n",
    "if __name__ == '__main__':\n",
    "    n = int(input().strip())\n",
    "\n",
    "    arr = list(map(int, input().rstrip().split()))\n",
    "\n",
    "    insertionSort2(n, arr)\n"
   ]
  }
 ],
 "metadata": {
  "kernelspec": {
   "display_name": "Python 3 (ipykernel)",
   "language": "python",
   "name": "python3"
  },
  "language_info": {
   "codemirror_mode": {
    "name": "ipython",
    "version": 3
   },
   "file_extension": ".py",
   "mimetype": "text/x-python",
   "name": "python",
   "nbconvert_exporter": "python",
   "pygments_lexer": "ipython3",
   "version": "3.9.18"
  }
 },
 "nbformat": 4,
 "nbformat_minor": 2
}
